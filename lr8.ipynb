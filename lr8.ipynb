{
 "cells": [
  {
   "cell_type": "markdown",
   "id": "dc5b7e22",
   "metadata": {},
   "source": [
    "# Лабораторная работа №8 (Проведение исследований моделями обнаружения и распознавания объектов)\n",
    "## Выполнил студент группы М8О-406Б-21, Орусский В.Р."
   ]
  },
  {
   "cell_type": "markdown",
   "id": "504dbe10",
   "metadata": {},
   "source": [
    "Был использован датасет [VisDrone](https://www.kaggle.com/datasets/evilspirit05/visdrone)\n",
    "\n",
    "Набор данных содержит изображения и видео с дронов, позволяющие детектировать объекты с высоты. Очень полезно для инспекции больших пространств с высоты, например при патрулировании больших территорий заводов, фабрик или других охраняемых зон. Так же в нынешнее время полезно для ведения боевых действий."
   ]
  },
  {
   "cell_type": "markdown",
   "id": "3bc4f7ca",
   "metadata": {},
   "source": [
    "Импорт зависимостей и библиотек"
   ]
  },
  {
   "cell_type": "code",
   "execution_count": 7,
   "id": "217734db",
   "metadata": {},
   "outputs": [
    {
     "name": "stdout",
     "output_type": "stream",
     "text": [
      "Creating new Ultralytics Settings v0.0.6 file  \n",
      "View Ultralytics Settings with 'yolo settings' or at 'C:\\Users\\slava\\AppData\\Roaming\\Ultralytics\\settings.json'\n",
      "Update Settings with 'yolo settings key=value', i.e. 'yolo settings runs_dir=path/to/dir'. For help see https://docs.ultralytics.com/quickstart/#ultralytics-settings.\n"
     ]
    }
   ],
   "source": [
    "import cv2\n",
    "from PIL import Image\n",
    "import matplotlib.pyplot as plt\n",
    "import torch\n",
    "import warnings\n",
    "from ultralytics import YOLO\n",
    "import os\n",
    "import yaml\n",
    "\n",
    "# Отключаем только несущественные предупреждения\n",
    "warnings.filterwarnings(\"ignore\", category=UserWarning)\n",
    "\n",
    "# Установка ultralytics\n",
    "try:\n",
    "    from ultralytics import YOLO\n",
    "except ImportError:\n",
    "    print(\"Устанавливаем ultralytics...\")\n",
    "    os.system(\"pip install ultralytics\")\n",
    "    from ultralytics import YOLO"
   ]
  },
  {
   "cell_type": "code",
   "execution_count": 4,
   "id": "ad8a86f0",
   "metadata": {},
   "outputs": [
    {
     "name": "stdout",
     "output_type": "stream",
     "text": [
      "C:\\Users\\slava\\.cache\\kagglehub\\datasets\\evilspirit05\\visdrone\\versions\\14\n"
     ]
    }
   ],
   "source": [
    "import kagglehub\n",
    "\n",
    "path = kagglehub.dataset_download('evilspirit05/visdrone')\n",
    "\n",
    "print(path)"
   ]
  },
  {
   "cell_type": "code",
   "execution_count": null,
   "id": "6e48ba57",
   "metadata": {},
   "outputs": [],
   "source": [
    "TRAIN_IMAGES = os.path.join(DATA_DIR, 'VisDrone2019-DET-train/images')\n",
    "TRAIN_ANNOTATIONS = os.path.join(DATA_DIR, 'VisDrone2019-DET-train/annotations')\n",
    "TRAIN_LABELS = os.path.join(DATA_DIR, 'VisDrone2019-DET-train/labels')\n",
    "VAL_IMAGES = os.path.join(DATA_DIR, 'VisDrone2019-DET-val/images')\n",
    "VAL_ANNOTATIONS = os.path.join(DATA_DIR, 'VisDrone2019-DET-val/annotations')\n",
    "VAL_LABELS = os.path.join(DATA_DIR, 'VisDrone2019-DET-val/labels')\n",
    "\n",
    "# Создание директорий для YOLO меток\n",
    "os.makedirs(TRAIN_LABELS, exist_ok=True)\n",
    "os.makedirs(VAL_LABELS, exist_ok=True)\n",
    "\n",
    "train_images_count = len(os.listdir(TRAIN_IMAGES)) if os.path.exists(TRAIN_IMAGES) else 0\n",
    "train_labels_count = len(os.listdir(TRAIN_ANNOTATIONS)) if os.path.exists(TRAIN_ANNOTATIONS) else 0\n",
    "val_images_count = len(os.listdir(VAL_IMAGES)) if os.path.exists(VAL_IMAGES) else 0\n",
    "val_labels_count = len(os.listdir(VAL_ANNOTATIONS)) if os.path.exists(VAL_ANNOTATIONS) else 0"
   ]
  },
  {
   "cell_type": "markdown",
   "id": "cc14f9db",
   "metadata": {},
   "source": [
    "Набор данных"
   ]
  },
  {
   "cell_type": "code",
   "execution_count": 12,
   "id": "a956a8de",
   "metadata": {},
   "outputs": [
    {
     "name": "stdout",
     "output_type": "stream",
     "text": [
      "Тренировочные изображения: 6471, метки: 6471\n",
      "Валидационные изображения: 548, метки: 548\n"
     ]
    }
   ],
   "source": [
    "print(f\"Тренировочные изображения: {train_images_count}, метки: {train_labels_count}\")\n",
    "print(f\"Валидационные изображения: {val_images_count}, метки: {val_labels_count}\")"
   ]
  },
  {
   "cell_type": "markdown",
   "id": "5e6ff2f0",
   "metadata": {},
   "source": [
    "Создание YOLO меток"
   ]
  },
  {
   "cell_type": "code",
   "execution_count": null,
   "id": "2eb0eb70",
   "metadata": {},
   "outputs": [],
   "source": [
    "def convert_bbox_to_YOLO_format(image_path, annotation_path, output_label_path):\n",
    "    try:\n",
    "        image = cv2.imread(image_path)\n",
    "        if image is None:\n",
    "            raise Exception(f\"Failed to read image: {image_path}\")\n",
    "        h, w = image.shape[:2]\n",
    "        with open(annotation_path, 'r') as f:\n",
    "            lines = f.readlines()\n",
    "        yolo_annotations = []\n",
    "        for line in lines:\n",
    "            data = line.strip().split(',')\n",
    "            if len(data) < 6:\n",
    "                continue\n",
    "            bbox_left, bbox_top, bbox_width, bbox_height, _, class_id = map(float, data[:6])\n",
    "            class_id = int(class_id) - 1  # VisDrone классы начинаются с 1\n",
    "            if class_id < 0 or class_id >= 10:\n",
    "                continue\n",
    "            x_cen = (bbox_left + bbox_width / 2) / w\n",
    "            y_cen = (bbox_top + bbox_height / 2) / h\n",
    "            box_w = bbox_width / w\n",
    "            box_h = bbox_height / h\n",
    "            yolo_annotations.append(f\"{class_id} {x_cen:.6f} {y_cen:.6f} {box_w:.6f} {box_h:.6f}\")\n",
    "        with open(output_label_path, 'w') as f:\n",
    "            f.write('\\n'.join(yolo_annotations) + '\\n')\n",
    "    except Exception as e:\n",
    "        print(f\"Error processing {image_path}: {e}\")"
   ]
  },
  {
   "cell_type": "markdown",
   "id": "00a98c40",
   "metadata": {},
   "source": [
    "Конвертация аннотаций"
   ]
  },
  {
   "cell_type": "code",
   "execution_count": null,
   "id": "3524e9f1",
   "metadata": {},
   "outputs": [],
   "source": [
    "for ann_file in tqdm(os.listdir(TRAIN_ANNOTATIONS), desc=\"Converting train annotations\"):\n",
    "    if ann_file.endswith('.txt'):\n",
    "        img_file = ann_file.replace('.txt', '.jpg')\n",
    "        img_path = os.path.join(TRAIN_IMAGES, img_file)\n",
    "        ann_path = os.path.join(TRAIN_ANNOTATIONS, ann_file)\n",
    "        label_path = os.path.join(TRAIN_LABELS, ann_file)\n",
    "        if os.path.exists(img_path):\n",
    "            convert_bbox_to_YOLO_format(img_path, ann_path, label_path)\n",
    "\n",
    "for ann_file in tqdm(os.listdir(VAL_ANNOTATIONS), desc=\"Converting val annotations\"):\n",
    "    if ann_file.endswith('.txt'):\n",
    "        img_file = ann_file.replace('.txt', '.jpg')\n",
    "        img_path = os.path.join(VAL_IMAGES, img_file)\n",
    "        ann_path = os.path.join(VAL_ANNOTATIONS, ann_file)\n",
    "        label_path = os.path.join(VAL_LABELS, ann_file)\n",
    "        if os.path.exists(img_path):\n",
    "            convert_bbox_to_YOLO_format(img_path, ann_path, label_path)"
   ]
  },
  {
   "cell_type": "markdown",
   "id": "8d6e7be9",
   "metadata": {},
   "source": [
    "YAML-конфигурация для YOLO\n"
   ]
  },
  {
   "cell_type": "code",
   "execution_count": null,
   "id": "fc5803c7",
   "metadata": {},
   "outputs": [],
   "source": [
    "data_config = {\n",
    "    'path': DATA_DIR,\n",
    "    'train': 'VisDrone2019-DET-train/images',\n",
    "    'val': 'VisDrone2019-DET-val/images',\n",
    "    'nc': 10,\n",
    "    'names': ['pedestrian', 'people', 'bicycle', 'car', 'van', 'truck', 'tricycle', 'awning-tricycle', 'bus', 'motor']\n",
    "}\n",
    "with open('visdrone.yaml', 'w') as f:\n",
    "    yaml.dump(data_config, f)"
   ]
  },
  {
   "cell_type": "markdown",
   "id": "743f5324",
   "metadata": {},
   "source": [
    "Бейзлайн (YOLOv11n)"
   ]
  },
  {
   "cell_type": "code",
   "execution_count": null,
   "id": "8177f27e",
   "metadata": {},
   "outputs": [],
   "source": [
    "model = YOLO('yolov11n.pt')\n",
    "model.train(data='visdrone.yaml', epochs=10, imgsz=640, batch=8, device=0)\n",
    "metrics = model.val()\n",
    "baseline_metrics = {\n",
    "    'mAP@50': metrics.box.map50,\n",
    "    'mAP@50:95': metrics.box.map,\n",
    "    'Precision': metrics.box.p,\n",
    "    'Recall': metrics.box.r\n",
    "}\n",
    "print(f\"Бейзлайн: mAP@50: {baseline_metrics['mAP@50']:.4f}, mAP@50:95: {baseline_metrics['mAP@50:95']:.4f}\")"
   ]
  },
  {
   "cell_type": "markdown",
   "id": "c1dc2af9",
   "metadata": {},
   "source": [
    "Результат"
   ]
  },
  {
   "cell_type": "code",
   "execution_count": null,
   "id": "97bae4a6",
   "metadata": {},
   "outputs": [],
   "source": [
    "img_path = os.path.join(VAL_IMAGES, os.listdir(VAL_IMAGES)[0])\n",
    "img = cv2.imread(img_path)\n",
    "results = model.predict(img_path)\n",
    "for r in results:\n",
    "    boxes = r.boxes.xyxy.cpu().numpy()\n",
    "    classes = r.boxes.cls.cpu().numpy()\n",
    "    for box, cls in zip(boxes, classes):\n",
    "        x1, y1, x2, y2 = map(int, box)\n",
    "        cv2.rectangle(img, (x1, y1), (x2, y2), (0, 255, 0), 2)\n",
    "        cv2.putText(img, data_config['names'][int(cls)], (x1, y1-10), cv2.FONT_HERSHEY_SIMPLEX, 0.9, (0, 255, 0), 2)\n",
    "plt.imshow(cv2.cvtColor(img, cv2.COLOR_BGR2RGB))\n",
    "plt.axis('off')\n",
    "plt.show()"
   ]
  },
  {
   "cell_type": "markdown",
   "id": "5e16db74",
   "metadata": {},
   "source": [
    "Улучшенный бейзлайн (YOLOv11s с аугментациями)"
   ]
  },
  {
   "cell_type": "code",
   "execution_count": null,
   "id": "14e468c4",
   "metadata": {},
   "outputs": [],
   "source": [
    "improved_model = YOLO('yolov11s.pt')\n",
    "improved_model.train(\n",
    "    data='visdrone.yaml',\n",
    "    epochs=10,\n",
    "    imgsz=640,\n",
    "    batch=8,\n",
    "    device=0,\n",
    "    hsv_h=0.015, hsv_s=0.7, hsv_v=0.4, flipud=0.5  # Аугментации\n",
    ")\n",
    "improved_metrics = improved_model.val()\n",
    "improved_metrics_dict = {\n",
    "    'mAP@50': improved_metrics.box.map50,\n",
    "    'mAP@50:95': improved_metrics.box.map,\n",
    "    'Precision': improved_metrics.box.p,\n",
    "    'Recall': improved_metrics.box.r\n",
    "}\n",
    "print(f\"Улучшенный бейзлайн: mAP@50: {improved_metrics_dict['mAP@50']:.4f}, mAP@50:95: {improved_metrics_dict['mAP@50:95']:.4f}\")\n",
    "print(f\"Сравнение: ΔmAP@50: {(improved_metrics_dict['mAP@50'] - baseline_metrics['mAP@50']):.4f}\")\n"
   ]
  },
  {
   "cell_type": "markdown",
   "id": "617268d1",
   "metadata": {},
   "source": [
    "Собственная реализация"
   ]
  },
  {
   "cell_type": "code",
   "execution_count": null,
   "id": "a8a1b208",
   "metadata": {},
   "outputs": [],
   "source": [
    "class SimpleYOLO(nn.Module):\n",
    "    def __init__(self, num_classes=10):\n",
    "        super(SimpleYOLO, self).__init__()\n",
    "        self.backbone = nn.Sequential(\n",
    "            nn.Conv2d(3, 16, 3, padding=1),\n",
    "            nn.ReLU(),\n",
    "            nn.MaxPool2d(2),\n",
    "            nn.Conv2d(16, 32, 3, padding=1),\n",
    "            nn.ReLU(),\n",
    "            nn.MaxPool2d(2)\n",
    "        )\n",
    "        self.head = nn.Conv2d(32, num_classes * 5, 1)  # 5: class_id, x, y, w, h\n",
    "\n",
    "    def forward(self, x):\n",
    "        x = self.backbone(x)\n",
    "        return self.head(x)"
   ]
  }
 ],
 "metadata": {
  "kernelspec": {
   "display_name": ".venv",
   "language": "python",
   "name": "python3"
  },
  "language_info": {
   "codemirror_mode": {
    "name": "ipython",
    "version": 3
   },
   "file_extension": ".py",
   "mimetype": "text/x-python",
   "name": "python",
   "nbconvert_exporter": "python",
   "pygments_lexer": "ipython3",
   "version": "3.12.1"
  }
 },
 "nbformat": 4,
 "nbformat_minor": 5
}
